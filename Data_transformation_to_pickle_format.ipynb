{
 "cells": [
  {
   "cell_type": "code",
   "execution_count": 1,
   "id": "35bbf624",
   "metadata": {},
   "outputs": [],
   "source": [
    "import pickle\n",
    "import pandas as pd"
   ]
  },
  {
   "cell_type": "code",
   "execution_count": 2,
   "id": "74ea6e53",
   "metadata": {},
   "outputs": [],
   "source": [
    "data = pd.read_csv(r\"C:/Prroject/data/data/flights.csv\")\n",
    "data1=pd.read_csv(r\"C:/Prroject/data/data/airports.csv\")\n",
    "data2=pd.read_csv(r\"C:/Prroject/data/data/planes.csv\")"
   ]
  },
  {
   "cell_type": "code",
   "execution_count": 3,
   "id": "8febc136",
   "metadata": {},
   "outputs": [],
   "source": [
    "pickle.dump(data,open('flights.pkl','wb'))"
   ]
  },
  {
   "cell_type": "code",
   "execution_count": 4,
   "id": "2b000509",
   "metadata": {},
   "outputs": [],
   "source": [
    "pickle.dump(data1,open('airports.pkl','wb'))"
   ]
  },
  {
   "cell_type": "code",
   "execution_count": 5,
   "id": "389211cd",
   "metadata": {},
   "outputs": [],
   "source": [
    "pickle.dump(data2,open('planes.pkl','wb'))"
   ]
  }
 ],
 "metadata": {
  "kernelspec": {
   "display_name": "Python 3 (ipykernel)",
   "language": "python",
   "name": "python3"
  },
  "language_info": {
   "codemirror_mode": {
    "name": "ipython",
    "version": 3
   },
   "file_extension": ".py",
   "mimetype": "text/x-python",
   "name": "python",
   "nbconvert_exporter": "python",
   "pygments_lexer": "ipython3",
   "version": "3.9.0"
  }
 },
 "nbformat": 4,
 "nbformat_minor": 5
}
